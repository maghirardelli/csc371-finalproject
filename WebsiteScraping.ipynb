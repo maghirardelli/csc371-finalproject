{
 "cells": [
  {
   "cell_type": "code",
   "execution_count": 5,
   "id": "legislative-landing",
   "metadata": {},
   "outputs": [
    {
     "name": "stdout",
     "output_type": "stream",
     "text": [
      "Regex didn't match with the url: /_resources/img/logo-white.svg\n",
      "here\n",
      "here\n",
      "here\n",
      "here\n",
      "here\n",
      "here\n",
      "here\n",
      "here\n",
      "here\n",
      "here\n",
      "here\n",
      "here\n",
      "Regex didn't match with the url: /_resources/img/homepage/Named-a-most-innovative.svg\n",
      "Regex didn't match with the url: /_resources/img/homepage/Princeton-Most-Popular-Study-Abroad.svg\n",
      "Regex didn't match with the url: /_resources/img/homepage/Named-a-best.svg\n",
      "Regex didn't match with the url: /_resources/img/homepage/social-mobility.svg\n",
      "Regex didn't match with the url: /_resources/img/homepage/96-employed.svg\n",
      "Regex didn't match with the url: /_resources/img/homepage/ctcl.svg\n",
      "Regex didn't match with the url: /_resources/img/homepage/ncaa2.svg\n",
      "Regex didn't match with the url: /_resources/img/homepage/equestrian.svg\n",
      "Regex didn't match with the url: /_resources/img/homepage/fulbright2.svg\n",
      "here\n",
      "here\n",
      "Regex didn't match with the url: /_resources/img/logo-white.svg\n"
     ]
    }
   ],
   "source": [
    "#https://stackoverflow.com/questions/18408307/how-to-extract-and-download-all-images-from-a-website-using-beautifulsoup\n",
    "# Doesn't work very well so need to find better\n",
    "\n",
    "import re\n",
    "import requests\n",
    "from bs4 import BeautifulSoup\n",
    "\n",
    "site = 'https://www.goucher.edu/'\n",
    "\n",
    "response = requests.get(site)\n",
    "\n",
    "soup = BeautifulSoup(response.text, 'html.parser')\n",
    "img_tags = soup.find_all('img')\n",
    "\n",
    "urls = [img['src'] for img in img_tags]\n",
    "\n",
    "\n",
    "for url in urls:\n",
    "    filename = re.search(r'/([\\w_-]+[.](jpg|gif|png))$', url)\n",
    "    if not filename:\n",
    "         print(\"Regex didn't match with the url: {}\".format(url))\n",
    "         continue\n",
    "    with open(filename.group(1), 'wb') as f:\n",
    "        if 'http' not in url:\n",
    "            # sometimes an image source can be relative \n",
    "            # if it is provide the base url which also happens \n",
    "            # to be the site variable atm. \n",
    "            url = '{}{}'.format(site, url)\n",
    "        response = requests.get(url)\n",
    "        f.write(response.content)\n",
    "        print(\"here\")"
   ]
  },
  {
   "cell_type": "code",
   "execution_count": null,
   "id": "finite-topic",
   "metadata": {},
   "outputs": [],
   "source": []
  }
 ],
 "metadata": {
  "kernelspec": {
   "display_name": "Python 3",
   "language": "python",
   "name": "python3"
  },
  "language_info": {
   "codemirror_mode": {
    "name": "ipython",
    "version": 3
   },
   "file_extension": ".py",
   "mimetype": "text/x-python",
   "name": "python",
   "nbconvert_exporter": "python",
   "pygments_lexer": "ipython3",
   "version": "3.7.9"
  }
 },
 "nbformat": 4,
 "nbformat_minor": 5
}
